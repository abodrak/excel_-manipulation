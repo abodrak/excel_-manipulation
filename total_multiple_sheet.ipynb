{
 "cells": [
  {
   "cell_type": "code",
   "execution_count": null,
   "metadata": {},
   "outputs": [],
   "source": []
  },
  {
   "cell_type": "code",
   "execution_count": 22,
   "metadata": {},
   "outputs": [],
   "source": [
    "\n",
    "import openpyxl \n",
    "\n",
    "files = ['data-0.xlsx','data-1.xlsx','data-2.xlsx']\n",
    "values = []\n",
    "for index,file in enumerate(files):\n",
    "    wb = openpyxl.load_workbook(file)\n",
    "    sheet = wb['Sheet1']\n",
    "    sheet['G7'] = '=SUM(G2:G5)'\n",
    "    sheet['G7'].style= 'Currency'\n",
    "    wb.save(file)"
   ]
  },
  {
   "cell_type": "code",
   "execution_count": null,
   "metadata": {},
   "outputs": [],
   "source": []
  }
 ],
 "metadata": {
  "kernelspec": {
   "display_name": "Python 3",
   "language": "python",
   "name": "python3"
  },
  "language_info": {
   "codemirror_mode": {
    "name": "ipython",
    "version": 3
   },
   "file_extension": ".py",
   "mimetype": "text/x-python",
   "name": "python",
   "nbconvert_exporter": "python",
   "pygments_lexer": "ipython3",
   "version": "3.8.4"
  }
 },
 "nbformat": 4,
 "nbformat_minor": 4
}
